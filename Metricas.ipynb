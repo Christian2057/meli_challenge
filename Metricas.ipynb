{
 "cells": [
  {
   "cell_type": "markdown",
   "id": "8260ab8b",
   "metadata": {},
   "source": [
    "En este notebook investigamos distintas métricas posibles para el modelo, describiendolas brevemente, argumentando por qué podrían ser adecuadas y mostrando cómo se implementan "
   ]
  },
  {
   "cell_type": "markdown",
   "id": "3a4dff32",
   "metadata": {},
   "source": [
    "# Preambulo: preparar los datos y el modelo elegido"
   ]
  },
  {
   "cell_type": "code",
   "execution_count": 2,
   "id": "e65c3df1",
   "metadata": {},
   "outputs": [],
   "source": [
    "import pandas as pd\n",
    "import numpy as np\n",
    "\n",
    "import json\n",
    "def build_dataset():\n",
    "    data = [json.loads(x) for x in open(\"MLA_100k.jsonlines\")]\n",
    "    target = lambda x: x.get(\"condition\")\n",
    "    N = -10000\n",
    "    X_train = data[:N]\n",
    "    X_test = data[N:]\n",
    "    y_train = [target(x) for x in X_train]\n",
    "    y_test = [target(x) for x in X_test]\n",
    "    for x in X_test:\n",
    "        del x[\"condition\"]\n",
    "    return X_train, y_train, X_test, y_test\n",
    "\n",
    "X_train, y_train, X_test, y_test = build_dataset()\n",
    "\n",
    "tabla_train=pd.DataFrame.from_dict(X_train, orient='columns') #las keys son las columnas\n",
    "\n",
    "tabla_train=(tabla_train[['title','seller_id','price','warranty','listing_type_id','initial_quantity','sold_quantity','category_id','condition']]\n",
    "        .astype({'seller_id':'object'}))\n",
    "\n",
    "tabla_test=pd.DataFrame.from_dict(X_test, orient='columns')[['title','seller_id','price','warranty','listing_type_id','initial_quantity','sold_quantity','category_id']] #las keys son las columnas\n"
   ]
  },
  {
   "cell_type": "code",
   "execution_count": 3,
   "id": "8d6f98a0",
   "metadata": {},
   "outputs": [],
   "source": [
    "def label_encoder(s):\n",
    "    if s=='new':\n",
    "        return 1\n",
    "    else:\n",
    "        return 0"
   ]
  },
  {
   "cell_type": "code",
   "execution_count": 4,
   "id": "c0cdc1b3",
   "metadata": {},
   "outputs": [],
   "source": [
    "y_train_encoded=np.array(list(map(label_encoder,y_train)))\n",
    "\n",
    "y_test_encoded=np.array(list(map(label_encoder,y_test)))"
   ]
  },
  {
   "cell_type": "code",
   "execution_count": 5,
   "id": "69987995",
   "metadata": {},
   "outputs": [],
   "source": [
    "# datos\n",
    "\n",
    "#texto\n",
    "import nltk\n",
    "from nltk.corpus import stopwords\n",
    "\n",
    "sw=stopwords.words('spanish')\n",
    "sw.remove('sin')\n",
    "sw.remove('con')\n",
    "\n",
    "from sklearn.feature_extraction.text import CountVectorizer\n",
    "vectorizador_bow=CountVectorizer(stop_words=sw)\n",
    "\n",
    "x_train_bow=vectorizador_bow.fit_transform(tabla_train['title'])\n",
    "\n",
    "from sklearn.feature_extraction.text import TfidfTransformer\n",
    "tfidf_transformer = TfidfTransformer()\n",
    "x_train_tfidf = tfidf_transformer.fit_transform(x_train_bow)\n",
    "\n",
    "x_test_bow = vectorizador_bow.transform(tabla_test['title'])\n",
    "x_test_tfidf = tfidf_transformer.transform(x_test_bow)\n",
    "\n",
    "\n",
    "#features\n",
    " #sumamos uno para que los codigos empiecen en 1 y no en 0\n",
    "cat_codes=tabla_train['category_id'].astype('category').cat.codes + 1\n",
    "list_codes=tabla_train['listing_type_id'].astype('category').cat.codes + 1\n",
    "\n",
    "\n",
    "from collections import defaultdict #le damos un valor por defecto\n",
    "\n",
    "encoder_cat = {key:value for (key,value) in np.array([tabla_train['category_id'],cat_codes]).T}\n",
    "encoder_cat=defaultdict(int ,encoder_cat)\n",
    "decoder_cat = {value:key for (key,value) in encoder_cat.items()}\n",
    "decoder_cat=defaultdict(int ,decoder_cat)\n",
    "\n",
    "encoder_type = {key:value for (key,value) in np.array([tabla_train['listing_type_id'],cat_codes]).T}\n",
    "encoder_type=defaultdict(int ,encoder_type)\n",
    "decoder_type = {value:key for (key,value) in encoder_cat.items()}\n",
    "decoder_type=defaultdict(int ,decoder_type)\n",
    "\n",
    "x_train_sc = (\n",
    "            np.array([tabla_train['category_id'].map(encoder_cat),\n",
    "                      tabla_train['listing_type_id'].map(encoder_type)])\n",
    "            ).T\n",
    "\n",
    "x_train_features = pd.concat([pd.DataFrame(x_train_sc),tabla_train['initial_quantity'], tabla_train['sold_quantity']],axis=1).to_numpy()\n",
    "\n",
    "\n",
    "x_test_sc = (np.array([#tabla_test['seller_id'].map(encoder_seller,), \n",
    "                       tabla_test['category_id'].map(encoder_cat),\n",
    "                      tabla_test['listing_type_id'].map(encoder_type)]).T\n",
    "            )\n",
    "x_test_features = pd.concat([pd.DataFrame(x_test_sc),tabla_test['initial_quantity'], tabla_test['sold_quantity']],axis=1).to_numpy()\n"
   ]
  },
  {
   "cell_type": "code",
   "execution_count": 6,
   "id": "5f28340c",
   "metadata": {},
   "outputs": [],
   "source": [
    "from scipy.sparse import coo_matrix, hstack\n",
    "x_train = hstack([x_train_tfidf,x_train_features])\n",
    "x_test = hstack([x_test_tfidf,x_test_features])"
   ]
  },
  {
   "cell_type": "code",
   "execution_count": 7,
   "id": "d3658df3",
   "metadata": {},
   "outputs": [
    {
     "data": {
      "text/plain": [
       "<90000x78505 sparse matrix of type '<class 'numpy.float64'>'\n",
       "\twith 822410 stored elements in COOrdinate format>"
      ]
     },
     "execution_count": 7,
     "metadata": {},
     "output_type": "execute_result"
    }
   ],
   "source": [
    "x_train"
   ]
  },
  {
   "cell_type": "code",
   "execution_count": 8,
   "id": "11a75abc",
   "metadata": {},
   "outputs": [
    {
     "data": {
      "text/plain": [
       "<10000x78505 sparse matrix of type '<class 'numpy.float64'>'\n",
       "\twith 86428 stored elements in COOrdinate format>"
      ]
     },
     "execution_count": 8,
     "metadata": {},
     "output_type": "execute_result"
    }
   ],
   "source": [
    "x_test"
   ]
  },
  {
   "cell_type": "code",
   "execution_count": 9,
   "id": "9b2e611d",
   "metadata": {},
   "outputs": [],
   "source": [
    "# modelo elegido\n",
    "from sklearn.tree import DecisionTreeClassifier\n",
    "tree = DecisionTreeClassifier(max_depth = 40).fit(x_train, y_train_encoded)"
   ]
  },
  {
   "cell_type": "code",
   "execution_count": 10,
   "id": "208cb1a6",
   "metadata": {},
   "outputs": [],
   "source": [
    "y_pred=tree.predict(x_test)"
   ]
  },
  {
   "cell_type": "markdown",
   "id": "7f0c1df5",
   "metadata": {},
   "source": [
    "# Metricas"
   ]
  },
  {
   "cell_type": "markdown",
   "id": "86976631",
   "metadata": {},
   "source": [
    "## Accuracy"
   ]
  },
  {
   "cell_type": "code",
   "execution_count": 13,
   "id": "b54cbdfc",
   "metadata": {},
   "outputs": [],
   "source": [
    "acc_tree= (y_pred == y_test_encoded).sum()/len(y_test)"
   ]
  },
  {
   "cell_type": "code",
   "execution_count": 14,
   "id": "2be9e66b",
   "metadata": {},
   "outputs": [
    {
     "data": {
      "text/plain": [
       "0.8655"
      ]
     },
     "execution_count": 14,
     "metadata": {},
     "output_type": "execute_result"
    }
   ],
   "source": [
    "acc_tree"
   ]
  },
  {
   "cell_type": "markdown",
   "id": "00922369",
   "metadata": {},
   "source": [
    "## F_beta score"
   ]
  },
  {
   "cell_type": "markdown",
   "id": "eb6a66ff",
   "metadata": {},
   "source": [
    "La accuracy no siempre es una métrica buena, por ejemplo cuando las clases son desbalanceadas: si el 90% de los datos son de la clase c, entonces un clasificador que prediga siempre \"c\" tiene de primera un 90% de accuracy pero no sirve para nada realmente. Surgen otras métricas como:\n",
    "\n",
    "Precision: proporción de los datos predichos como positivos, que realmente lo son.\n",
    "\n",
    "\n",
    "Recall: proporción de los datos que realmente son positivos, que fueron predichos como tal.\n",
    "\n",
    "\n",
    "Si en Mercado Libre se quisiera encontrar productos nuevos, por ejemplo para ofrecerles a esos vendedores un servicio de garantía de un tercero asociado con MeLi por decir algo, entonces la precision con \"new\" como clase positiva sería una buena métrica.\n",
    "\n",
    "\n",
    "El $F_\\beta-score$ surge de querer lograr un balance entre la recall y la precision (en general hay un trade-off entre ambas). \n",
    "$F_\\beta = (1+\\beta^2)\\frac{precision \\times recall}{\\beta^2 precision + recall}$\n",
    "con esta formulación (la usada en sklearn) la recall es $\\beta$ veces tan importante como la precision.\n",
    "\n",
    "Tanto en el conjunto de entrenamiento como en el test hay un poco más de productos nuevos que usados, para compensar esto utilizar la $F\\beta$ con $\\beta=2$ es una opción, con \"used\" como la clase positiva. Así contemplamos el estar clasificando bien suficientes elementos de esta clase (que es la que sale perjudicada si solo se ve la accuracy) pero sin descuidar demasiado la precision (por eso usaríamos la $F_\\beta$ y no directamente la recall)."
   ]
  },
  {
   "cell_type": "code",
   "execution_count": 36,
   "id": "e313093f",
   "metadata": {},
   "outputs": [
    {
     "data": {
      "text/plain": [
       "0.8544078528342887"
      ]
     },
     "execution_count": 36,
     "metadata": {},
     "output_type": "execute_result"
    }
   ],
   "source": [
    "from sklearn.metrics import fbeta_score\n",
    "\n",
    "\n",
    "fbeta_score(y_true=y_test_encoded, y_pred=y_pred,beta=2,labels=[0,1])"
   ]
  },
  {
   "cell_type": "markdown",
   "id": "1afc08d8",
   "metadata": {},
   "source": [
    "## AUC ROC"
   ]
  },
  {
   "cell_type": "markdown",
   "id": "1a2a5ff7",
   "metadata": {},
   "source": [
    "$TPR= TP/(TP+FN)$ y $FPR=FN/(TN+FP)$ la curva roc esta definida por el valor de estas dos cantidades en todos los \"umbrales\" (treshold) posibles, o sea en la probabilidad minima que el modelo requiere para clasificar una observacion como positiva.\n",
    "\n",
    "El valor del area bajo esta curva (AUC) habla de qué tan bien el modelo distingue casos positivos de negativos. Si las clases estan muy desbalanceadas el modelo aprende un favortismo por una de ellas y no va a poder distinguir bien. Además para el auc-score no hay una clase más importante que la otra, lo que medimos es que tan bien las podemos separar.\n",
    "\n",
    "En nuestro problema los datasets estan bien balanceados y no nos interesa predecir mejor productos nuevos o predecir mejor productos usados, sino ambos por igual, por eso esta es una buena métrica para el modelo."
   ]
  },
  {
   "cell_type": "code",
   "execution_count": 78,
   "id": "41010b6e",
   "metadata": {},
   "outputs": [],
   "source": [
    "y_pred_prob=tree.predict_proba(x_test)"
   ]
  },
  {
   "cell_type": "code",
   "execution_count": 79,
   "id": "ecf8bee0",
   "metadata": {},
   "outputs": [
    {
     "data": {
      "text/plain": [
       "0.8746367046338008"
      ]
     },
     "execution_count": 79,
     "metadata": {},
     "output_type": "execute_result"
    }
   ],
   "source": [
    "from sklearn.metrics import roc_auc_score\n",
    "\n",
    "#roc score con positive=new, hay que darle probabilidades, no las predicciones\n",
    "roc_auc_score(y_true=y_test_encoded, y_score=y_pred_prob[:,1],labels=[1,0])"
   ]
  },
  {
   "cell_type": "code",
   "execution_count": 45,
   "id": "c36c0d90",
   "metadata": {},
   "outputs": [
    {
     "data": {
      "text/plain": [
       "<sklearn.metrics._plot.roc_curve.RocCurveDisplay at 0x7f6671e274f0>"
      ]
     },
     "execution_count": 45,
     "metadata": {},
     "output_type": "execute_result"
    },
    {
     "data": {
      "image/png": "[encoded data removed]",
      "text/plain": [
       "<Figure size 432x288 with 1 Axes>"
      ]
     },
     "metadata": {
      "needs_background": "light"
     },
     "output_type": "display_data"
    }
   ],
   "source": [
    "from sklearn.metrics import plot_roc_curve\n",
    "\n",
    "plot_roc_curve(tree, x_test, y_test_encoded,)  "
   ]
  },
  {
   "cell_type": "markdown",
   "id": "9f5f0d71",
   "metadata": {},
   "source": [
    "## metrica personalizada"
   ]
  },
  {
   "cell_type": "markdown",
   "id": "8e319d3c",
   "metadata": {},
   "source": [
    "Una métrica es una forma de medir el desempeño de un modelo y es un insumo para *comparar* modelos entre sí.\n",
    "Además de las métricas de uso general como las anteriores, siempre se pueden crear particulares que dependen del problema y de qué es lo importante para el cliente/negocio/aplicación.\n",
    "\n",
    "Por ejemplo en MeLi más que interesarse estrictamente por la cantidad de productos nuevos o usados que se clasifican bien, puede ser más interesante saber el equivalente en cantidad de dinero que circula por la plataforma que ha sido clasificada bien, o bien la proporción de \"dinero bien clasificado\" que circula.\n",
    "\n",
    "Podemos calcular esto a partir de los precios"
   ]
  },
  {
   "cell_type": "code",
   "execution_count": 69,
   "id": "e743314a",
   "metadata": {},
   "outputs": [],
   "source": [
    "tabla_test['correct']= (y_pred == y_test_encoded)"
   ]
  },
  {
   "cell_type": "code",
   "execution_count": null,
   "id": "ed1bb5f3",
   "metadata": {},
   "outputs": [],
   "source": [
    "total=tabla_test['price'].sum()\n",
    "porcentajes_plata=tabla_test.groupby(by='correct')['price'].sum()/total"
   ]
  },
  {
   "cell_type": "code",
   "execution_count": 75,
   "id": "3405513c",
   "metadata": {},
   "outputs": [
    {
     "data": {
      "text/plain": [
       "correct\n",
       "False    0.146382\n",
       "True     0.853618\n",
       "Name: price, dtype: float64"
      ]
     },
     "execution_count": 75,
     "metadata": {},
     "output_type": "execute_result"
    }
   ],
   "source": [
    "porcentajes_plata"
   ]
  },
  {
   "cell_type": "code",
   "execution_count": 76,
   "id": "e127302d",
   "metadata": {},
   "outputs": [],
   "source": [
    "metrica_personalizada=porcentajes_plata[1]"
   ]
  },
  {
   "cell_type": "code",
   "execution_count": 77,
   "id": "98f46ad6",
   "metadata": {},
   "outputs": [
    {
     "data": {
      "text/plain": [
       "0.8536176073920978"
      ]
     },
     "execution_count": 77,
     "metadata": {},
     "output_type": "execute_result"
    }
   ],
   "source": [
    "metrica_personalizada"
   ]
  },
  {
   "cell_type": "markdown",
   "id": "4fa738c4",
   "metadata": {},
   "source": [
    "# Conclusión"
   ]
  },
  {
   "cell_type": "markdown",
   "id": "168793e8",
   "metadata": {},
   "source": [
    "Considerando lo anterior, si hay que elegir una considero que AUC-ROC score es la que mejor se ajusta a nuestro problema, por lo dicho sobre nuestros datasets y de que no nos importa más una clase que la otra. La performance con esta métrica es un poco mejor que con la accuracy, seguramente por esto que mencionamos."
   ]
  }
 ],
 "metadata": {
  "kernelspec": {
   "display_name": "challenge_ml",
   "language": "python",
   "name": "challenge_ml"
  },
  "language_info": {
   "codemirror_mode": {
    "name": "ipython",
    "version": 3
   },
   "file_extension": ".py",
   "mimetype": "text/x-python",
   "name": "python",
   "nbconvert_exporter": "python",
   "pygments_lexer": "ipython3",
   "version": "3.9.7"
  }
 },
 "nbformat": 4,
 "nbformat_minor": 5
}
